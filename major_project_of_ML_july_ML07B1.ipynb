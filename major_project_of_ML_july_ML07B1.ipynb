{
 "cells": [
  {
   "cell_type": "markdown",
   "metadata": {},
   "source": [
    "Exploratory data analysis"
   ]
  },
  {
   "cell_type": "code",
   "execution_count": 556,
   "metadata": {},
   "outputs": [],
   "source": [
    "import pandas as pd\n",
    "a=pd.read_csv(\"Information.csv\",encoding='latin-1')"
   ]
  },
  {
   "cell_type": "code",
   "execution_count": 557,
   "metadata": {},
   "outputs": [
    {
     "data": {
      "text/plain": [
       "Index(['_unit_id', '_golden', '_unit_state', '_trusted_judgments',\n",
       "       '_last_judgment_at', 'gender', 'gender:confidence', 'profile_yn',\n",
       "       'profile_yn:confidence', 'created', 'description', 'fav_number',\n",
       "       'gender_gold', 'link_color', 'name', 'profile_yn_gold', 'profileimage',\n",
       "       'retweet_count', 'sidebar_color', 'text', 'tweet_coord', 'tweet_count',\n",
       "       'tweet_created', 'tweet_id', 'tweet_location', 'user_timezone'],\n",
       "      dtype='object')"
      ]
     },
     "execution_count": 557,
     "metadata": {},
     "output_type": "execute_result"
    }
   ],
   "source": [
    "a.columns"
   ]
  },
  {
   "cell_type": "code",
   "execution_count": 558,
   "metadata": {},
   "outputs": [
    {
     "name": "stdout",
     "output_type": "stream",
     "text": [
      "<class 'pandas.core.frame.DataFrame'>\n",
      "RangeIndex: 20050 entries, 0 to 20049\n",
      "Data columns (total 26 columns):\n",
      " #   Column                 Non-Null Count  Dtype  \n",
      "---  ------                 --------------  -----  \n",
      " 0   _unit_id               20050 non-null  int64  \n",
      " 1   _golden                20050 non-null  bool   \n",
      " 2   _unit_state            20050 non-null  object \n",
      " 3   _trusted_judgments     20050 non-null  int64  \n",
      " 4   _last_judgment_at      20000 non-null  object \n",
      " 5   gender                 19953 non-null  object \n",
      " 6   gender:confidence      20024 non-null  float64\n",
      " 7   profile_yn             20050 non-null  object \n",
      " 8   profile_yn:confidence  20050 non-null  float64\n",
      " 9   created                20050 non-null  object \n",
      " 10  description            16306 non-null  object \n",
      " 11  fav_number             20050 non-null  int64  \n",
      " 12  gender_gold            50 non-null     object \n",
      " 13  link_color             20050 non-null  object \n",
      " 14  name                   20050 non-null  object \n",
      " 15  profile_yn_gold        50 non-null     object \n",
      " 16  profileimage           20050 non-null  object \n",
      " 17  retweet_count          20050 non-null  int64  \n",
      " 18  sidebar_color          20050 non-null  object \n",
      " 19  text                   20050 non-null  object \n",
      " 20  tweet_coord            159 non-null    object \n",
      " 21  tweet_count            20050 non-null  int64  \n",
      " 22  tweet_created          20050 non-null  object \n",
      " 23  tweet_id               20050 non-null  float64\n",
      " 24  tweet_location         12566 non-null  object \n",
      " 25  user_timezone          12252 non-null  object \n",
      "dtypes: bool(1), float64(3), int64(5), object(17)\n",
      "memory usage: 3.8+ MB\n"
     ]
    }
   ],
   "source": [
    "a.info()"
   ]
  },
  {
   "cell_type": "markdown",
   "metadata": {},
   "source": [
    "Data cleaning"
   ]
  },
  {
   "cell_type": "code",
   "execution_count": 559,
   "metadata": {},
   "outputs": [],
   "source": [
    "a.drop([\"profile_yn_gold\",\"tweet_coord\",\"gender_gold\"],axis=1,inplace=True)"
   ]
  },
  {
   "cell_type": "code",
   "execution_count": 560,
   "metadata": {},
   "outputs": [
    {
     "data": {
      "text/plain": [
       "Index(['_unit_id', '_golden', '_unit_state', '_trusted_judgments',\n",
       "       '_last_judgment_at', 'gender', 'gender:confidence', 'profile_yn',\n",
       "       'profile_yn:confidence', 'created', 'description', 'fav_number',\n",
       "       'link_color', 'name', 'profileimage', 'retweet_count', 'sidebar_color',\n",
       "       'text', 'tweet_count', 'tweet_created', 'tweet_id', 'tweet_location',\n",
       "       'user_timezone'],\n",
       "      dtype='object')"
      ]
     },
     "execution_count": 560,
     "metadata": {},
     "output_type": "execute_result"
    }
   ],
   "source": [
    "a.columns"
   ]
  },
  {
   "cell_type": "markdown",
   "metadata": {},
   "source": [
    "Featrues selection"
   ]
  },
  {
   "cell_type": "code",
   "execution_count": 561,
   "metadata": {},
   "outputs": [],
   "source": [
    "a=a.loc[:,['gender','gender:confidence','description','text','_trusted_judgments','name']]\n",
    "a=a[a['gender:confidence']==1]\n"
   ]
  },
  {
   "cell_type": "code",
   "execution_count": 562,
   "metadata": {},
   "outputs": [
    {
     "name": "stdout",
     "output_type": "stream",
     "text": [
      "<class 'pandas.core.frame.DataFrame'>\n",
      "Int64Index: 13926 entries, 0 to 20049\n",
      "Data columns (total 6 columns):\n",
      " #   Column              Non-Null Count  Dtype  \n",
      "---  ------              --------------  -----  \n",
      " 0   gender              13926 non-null  object \n",
      " 1   gender:confidence   13926 non-null  float64\n",
      " 2   description         11845 non-null  object \n",
      " 3   text                13926 non-null  object \n",
      " 4   _trusted_judgments  13926 non-null  int64  \n",
      " 5   name                13926 non-null  object \n",
      "dtypes: float64(1), int64(1), object(4)\n",
      "memory usage: 761.6+ KB\n"
     ]
    }
   ],
   "source": [
    "a.info()"
   ]
  },
  {
   "cell_type": "code",
   "execution_count": 563,
   "metadata": {},
   "outputs": [
    {
     "data": {
      "text/plain": [
       "(11845, 6)"
      ]
     },
     "execution_count": 563,
     "metadata": {},
     "output_type": "execute_result"
    }
   ],
   "source": [
    "a=a[a.description.notnull()]\n",
    "a.shape"
   ]
  },
  {
   "cell_type": "markdown",
   "metadata": {},
   "source": [
    "Removing outliers replacing them with median"
   ]
  },
  {
   "cell_type": "code",
   "execution_count": 564,
   "metadata": {},
   "outputs": [
    {
     "data": {
      "text/plain": [
       "<matplotlib.axes._subplots.AxesSubplot at 0x15999a3a708>"
      ]
     },
     "execution_count": 564,
     "metadata": {},
     "output_type": "execute_result"
    },
    {
     "data": {
      "image/png": "[encoded data removed]",
      "text/plain": [
       "<Figure size 432x288 with 1 Axes>"
      ]
     },
     "metadata": {
      "needs_background": "light"
     },
     "output_type": "display_data"
    }
   ],
   "source": [
    "import seaborn as sea\n",
    "import numpy as np\n",
    "sea.boxplot(a['_trusted_judgments'])"
   ]
  },
  {
   "cell_type": "code",
   "execution_count": 565,
   "metadata": {},
   "outputs": [],
   "source": [
    "median=a.loc[:,'_trusted_judgments'].median()\n",
    "a['_trusted_judgments']=median"
   ]
  },
  {
   "cell_type": "code",
   "execution_count": 566,
   "metadata": {},
   "outputs": [
    {
     "data": {
      "text/html": [
       "<div>\n",
       "<style scoped>\n",
       "    .dataframe tbody tr th:only-of-type {\n",
       "        vertical-align: middle;\n",
       "    }\n",
       "\n",
       "    .dataframe tbody tr th {\n",
       "        vertical-align: top;\n",
       "    }\n",
       "\n",
       "    .dataframe thead th {\n",
       "        text-align: right;\n",
       "    }\n",
       "</style>\n",
       "<table border=\"1\" class=\"dataframe\">\n",
       "  <thead>\n",
       "    <tr style=\"text-align: right;\">\n",
       "      <th></th>\n",
       "      <th>gender</th>\n",
       "      <th>gender:confidence</th>\n",
       "      <th>description</th>\n",
       "      <th>text</th>\n",
       "      <th>_trusted_judgments</th>\n",
       "      <th>name</th>\n",
       "    </tr>\n",
       "  </thead>\n",
       "  <tbody>\n",
       "    <tr>\n",
       "      <th>0</th>\n",
       "      <td>male</td>\n",
       "      <td>1.0</td>\n",
       "      <td>i sing my own rhythm.</td>\n",
       "      <td>Robbie E Responds To Critics After Win Against...</td>\n",
       "      <td>3.0</td>\n",
       "      <td>sheezy0</td>\n",
       "    </tr>\n",
       "    <tr>\n",
       "      <th>1</th>\n",
       "      <td>male</td>\n",
       "      <td>1.0</td>\n",
       "      <td>I'm the author of novels filled with family dr...</td>\n",
       "      <td>ÛÏIt felt like they were my friends and I was...</td>\n",
       "      <td>3.0</td>\n",
       "      <td>DavdBurnett</td>\n",
       "    </tr>\n",
       "    <tr>\n",
       "      <th>3</th>\n",
       "      <td>male</td>\n",
       "      <td>1.0</td>\n",
       "      <td>Mobile guy.  49ers, Shazam, Google, Kleiner Pe...</td>\n",
       "      <td>Hi @JordanSpieth - Looking at the url - do you...</td>\n",
       "      <td>3.0</td>\n",
       "      <td>douggarland</td>\n",
       "    </tr>\n",
       "    <tr>\n",
       "      <th>4</th>\n",
       "      <td>female</td>\n",
       "      <td>1.0</td>\n",
       "      <td>Ricky Wilson The Best FRONTMAN/Kaiser Chiefs T...</td>\n",
       "      <td>Watching Neighbours on Sky+ catching up with t...</td>\n",
       "      <td>3.0</td>\n",
       "      <td>WilfordGemma</td>\n",
       "    </tr>\n",
       "    <tr>\n",
       "      <th>5</th>\n",
       "      <td>female</td>\n",
       "      <td>1.0</td>\n",
       "      <td>you don't know me.</td>\n",
       "      <td>Ive seen people on the train with lamps, chair...</td>\n",
       "      <td>3.0</td>\n",
       "      <td>monroevicious</td>\n",
       "    </tr>\n",
       "    <tr>\n",
       "      <th>...</th>\n",
       "      <td>...</td>\n",
       "      <td>...</td>\n",
       "      <td>...</td>\n",
       "      <td>...</td>\n",
       "      <td>...</td>\n",
       "      <td>...</td>\n",
       "    </tr>\n",
       "    <tr>\n",
       "      <th>20044</th>\n",
       "      <td>female</td>\n",
       "      <td>1.0</td>\n",
       "      <td>I Love Me...Myself....&amp;....I</td>\n",
       "      <td>Need A Ride Home From Practice _Ù÷Ô_Ù÷Ô_Ù÷ÔAnd...</td>\n",
       "      <td>3.0</td>\n",
       "      <td>Bigbootyyjudy_</td>\n",
       "    </tr>\n",
       "    <tr>\n",
       "      <th>20045</th>\n",
       "      <td>female</td>\n",
       "      <td>1.0</td>\n",
       "      <td>(rp)</td>\n",
       "      <td>@lookupondeath ...Fine, and I'll drink tea too...</td>\n",
       "      <td>3.0</td>\n",
       "      <td>capuletrosa</td>\n",
       "    </tr>\n",
       "    <tr>\n",
       "      <th>20046</th>\n",
       "      <td>male</td>\n",
       "      <td>1.0</td>\n",
       "      <td>Whatever you like, it's not a problem at all. ...</td>\n",
       "      <td>Greg Hardy you a good player and all but don't...</td>\n",
       "      <td>3.0</td>\n",
       "      <td>BenNight41</td>\n",
       "    </tr>\n",
       "    <tr>\n",
       "      <th>20047</th>\n",
       "      <td>male</td>\n",
       "      <td>1.0</td>\n",
       "      <td>#TeamBarcelona ..You look lost so you should f...</td>\n",
       "      <td>You can miss people and still never want to se...</td>\n",
       "      <td>3.0</td>\n",
       "      <td>realuzzyfluxz</td>\n",
       "    </tr>\n",
       "    <tr>\n",
       "      <th>20049</th>\n",
       "      <td>female</td>\n",
       "      <td>1.0</td>\n",
       "      <td>Teamwork makes the dream work.</td>\n",
       "      <td>I think for my APUSH creative project I'm goin...</td>\n",
       "      <td>3.0</td>\n",
       "      <td>MeganFitz20</td>\n",
       "    </tr>\n",
       "  </tbody>\n",
       "</table>\n",
       "<p>11845 rows × 6 columns</p>\n",
       "</div>"
      ],
      "text/plain": [
       "       gender  gender:confidence  \\\n",
       "0        male                1.0   \n",
       "1        male                1.0   \n",
       "3        male                1.0   \n",
       "4      female                1.0   \n",
       "5      female                1.0   \n",
       "...       ...                ...   \n",
       "20044  female                1.0   \n",
       "20045  female                1.0   \n",
       "20046    male                1.0   \n",
       "20047    male                1.0   \n",
       "20049  female                1.0   \n",
       "\n",
       "                                             description  \\\n",
       "0                                  i sing my own rhythm.   \n",
       "1      I'm the author of novels filled with family dr...   \n",
       "3      Mobile guy.  49ers, Shazam, Google, Kleiner Pe...   \n",
       "4      Ricky Wilson The Best FRONTMAN/Kaiser Chiefs T...   \n",
       "5                                     you don't know me.   \n",
       "...                                                  ...   \n",
       "20044                       I Love Me...Myself....&....I   \n",
       "20045                                               (rp)   \n",
       "20046  Whatever you like, it's not a problem at all. ...   \n",
       "20047  #TeamBarcelona ..You look lost so you should f...   \n",
       "20049                     Teamwork makes the dream work.   \n",
       "\n",
       "                                                    text  _trusted_judgments  \\\n",
       "0      Robbie E Responds To Critics After Win Against...                 3.0   \n",
       "1      ÛÏIt felt like they were my friends and I was...                 3.0   \n",
       "3      Hi @JordanSpieth - Looking at the url - do you...                 3.0   \n",
       "4      Watching Neighbours on Sky+ catching up with t...                 3.0   \n",
       "5      Ive seen people on the train with lamps, chair...                 3.0   \n",
       "...                                                  ...                 ...   \n",
       "20044  Need A Ride Home From Practice _Ù÷Ô_Ù÷Ô_Ù÷ÔAnd...                 3.0   \n",
       "20045  @lookupondeath ...Fine, and I'll drink tea too...                 3.0   \n",
       "20046  Greg Hardy you a good player and all but don't...                 3.0   \n",
       "20047  You can miss people and still never want to se...                 3.0   \n",
       "20049  I think for my APUSH creative project I'm goin...                 3.0   \n",
       "\n",
       "                 name  \n",
       "0             sheezy0  \n",
       "1         DavdBurnett  \n",
       "3         douggarland  \n",
       "4        WilfordGemma  \n",
       "5       monroevicious  \n",
       "...               ...  \n",
       "20044  Bigbootyyjudy_  \n",
       "20045     capuletrosa  \n",
       "20046      BenNight41  \n",
       "20047   realuzzyfluxz  \n",
       "20049     MeganFitz20  \n",
       "\n",
       "[11845 rows x 6 columns]"
      ]
     },
     "execution_count": 566,
     "metadata": {},
     "output_type": "execute_result"
    }
   ],
   "source": [
    "a"
   ]
  },
  {
   "cell_type": "markdown",
   "metadata": {},
   "source": [
    "from here we are applying nailbaised algorithium"
   ]
  },
  {
   "cell_type": "code",
   "execution_count": 553,
   "metadata": {},
   "outputs": [],
   "source": [
    "from nltk.corpus import stopwords\n",
    "from nltk.tokenize import word_tokenize\n",
    "list_of_stopwords=stopwords.words(\"English\")"
   ]
  },
  {
   "cell_type": "code",
   "execution_count": 554,
   "metadata": {},
   "outputs": [],
   "source": [
    "clean_description=[]\n",
    "s=[\"...\",\"!\",\"https\",\":\",\"JordanSpieth\",\"#\",\"-\",\"(\",\")\",\"`\",\",\",\"Xxxx\",\".\",\"Xxxxxxx\",\"//\",\";\",\"//t.co/S5mFPA1vgK\",\"http\"\n",
    "  \"?\",\"/\",\"//t.co/H68ou5PE9L\",\"//t.co/CIzCANPQFz\",\"ÛÏIt\",\"_Ù÷Ä_Ù÷Ä_Ù÷Ä_ÙÔÎ_ÙÈ_ÙÔ_ÙÈ\",\"Xxx\",\"//t.co/S5mFPA1vgK\",\"//t.co/MPUuQtYF1g\"\n",
    "  \"themÛ\",\"BpackEngineer\",\"å£241m\",\"byÛ_\",\"_Aphmau_\",\"JMKM_Òü\",\"//t.co/G7bSTG9ICv\",\"ÛÊ\",\"V\",\"//t.co/LmMiOwenQQ\",\"ASMSG\",\n",
    "  \"//t.co/gIHIVyHF7G\",\"//t.co/MPUuQtYF1g\",\"|\",\"Ïö\",\"TheFullBleed\",\"SciFiTalk\",\"GeekLegacy\",\"The7thMatrix\",\"x100pre\",\n",
    "  \"_ü\",\"?\",\"[\",\"]\",\"Û¢Û¢\",\"÷üå©\",\"gmail.com\",\"Insta\",\"07508547008\",\"//t.co/ABfaK2iDjb\",\"usatoday.com\",\"xxxx\",\n",
    "  \"æáæ¡æü\",\"µµµµµµ\",\"µæü\",\"è¢µÑå¼p\",\"èÁæüæüæü'À\",\"µÑæ¡µä\",\"Ä£FreeZa\",\"Ä£RIPNAZERAH_ü\",\"//t.co/DTWyrMizAu\",\n",
    "  \"ªÁ\",\"||\",\"~\",\"R_ü|\",\"//t.co/GaYp6dFfH0\",\"//\",\"\\\\\",\"//t.co/Tfn1qzIp29\",\"//t.co/iyPSgSv70z\",\"»\",\"smpromngr.co.uk\",\n",
    "  \"÷¼ü\",\"732//303\",\"@\",\"//t.co/KPG0UX7vyk\",\"Û_ Peace\",\"//t.co/3OJ5ZIVzny\",'_',\"=\\\\=\",\"KB\",\"«\",\"//t.co/ZaMI4t2PcV\",\n",
    "  \"//t.co/H43HTRNyJ7\",\"//t.co/ybODPzSUJA\",\"{\",\"}\",\"//t.co/OMOl9oQMj8\",\"ë_ëÕë£\",\"_ü_ü_ü_ü\",\"Û¢\",\"//t.co/lAGLmKjKkm\",\n",
    "  \"//t.co/Vb6s8Yj70e\",\"http\",\"//t.co/wBwNqj3IWT\",\"//t.co/BN7SdbjB97\",\"..\",\"ÊÛÊÛÊÛÊÛÊÛÊÛÊÛÊÛ\",\"ÊÛÊÛÊÛÊÛÊÛÊÛor\",\n",
    "  \"ª´÷¼ã¢\",\"//t.co/Olk38YK7zC\",\"Ï¤\",\"/èödoæ_æÕkÓ\",\"//t.co/6lzW8WUGzq\",\"16//Megan\",\"Fox//Halsey//B\",\"//t.co/bcUc9F87iK\",\n",
    "  \"//t.co/tTpCQlSRZJ\",\"//t.co/wdWFhmKgrU\",\"//t.co/6yaUxTye9n\",\"//t.co/7iviKsg0Z5\",\"//t.co/KAvPcHr69v\",\"--\",\"%\",\"20/bi\",\n",
    "  \"//t.co/zS63yVU5uK\",\"*~||\",\"//t.co/vgxbI36xPH\",\"//t.co/gTzI3PCZwS\",\"//t.co/dfqnvRvbM2\",\"=\\\\=\",\"//t.co/KNUwaqG2x1\",\"//t.co/YeGw9bkUG8\"]\n",
    "for i in range(a.shape[0]):\n",
    "    current_description=a[\"description\"].values[i]\n",
    "    tokenized_word=word_tokenize(current_description)\n",
    "    clean_message=\"\"\n",
    "    for i in tokenized_word:\n",
    "        if i not in  s:\n",
    "            if i not in list_of_stopwords:\n",
    "                clean_message+=\" \"+i     \n",
    "    #print(\"current description  :\",clean_message)\n",
    "    clean_description.append(clean_message)\n"
   ]
  },
  {
   "cell_type": "code",
   "execution_count": 555,
   "metadata": {},
   "outputs": [],
   "source": [
    "a[\"clean_description\"]=clean_description"
   ]
  },
  {
   "cell_type": "code",
   "execution_count": 521,
   "metadata": {},
   "outputs": [],
   "source": [
    "from sklearn.feature_extraction.text import CountVectorizer\n",
    "cv=CountVectorizer()"
   ]
  },
  {
   "cell_type": "code",
   "execution_count": 522,
   "metadata": {},
   "outputs": [],
   "source": [
    "df=cv.fit_transform(a[\"clean_description\"])"
   ]
  },
  {
   "cell_type": "code",
   "execution_count": 523,
   "metadata": {},
   "outputs": [
    {
     "data": {
      "text/plain": [
       "<11845x26729 sparse matrix of type '<class 'numpy.int64'>'\n",
       "\twith 111063 stored elements in Compressed Sparse Row format>"
      ]
     },
     "execution_count": 523,
     "metadata": {},
     "output_type": "execute_result"
    }
   ],
   "source": [
    "df"
   ]
  },
  {
   "cell_type": "code",
   "execution_count": 524,
   "metadata": {},
   "outputs": [],
   "source": [
    "from sklearn.model_selection import train_test_split\n",
    "X_train,X_test,Y_train,Y_test=train_test_split(df,a[\"gender\"],train_size=0.8)"
   ]
  },
  {
   "cell_type": "code",
   "execution_count": 525,
   "metadata": {},
   "outputs": [],
   "source": [
    "from sklearn.naive_bayes import MultinomialNB\n",
    "naive=MultinomialNB()"
   ]
  },
  {
   "cell_type": "code",
   "execution_count": 526,
   "metadata": {},
   "outputs": [
    {
     "data": {
      "text/plain": [
       "MultinomialNB(alpha=1.0, class_prior=None, fit_prior=True)"
      ]
     },
     "execution_count": 526,
     "metadata": {},
     "output_type": "execute_result"
    }
   ],
   "source": [
    "naive.fit(X_train,Y_train)"
   ]
  },
  {
   "cell_type": "code",
   "execution_count": 527,
   "metadata": {},
   "outputs": [],
   "source": [
    "Y_predicted_value=naive.predict(X_test)"
   ]
  },
  {
   "cell_type": "code",
   "execution_count": 528,
   "metadata": {},
   "outputs": [],
   "source": [
    "from sklearn.metrics import accuracy_score"
   ]
  },
  {
   "cell_type": "code",
   "execution_count": 529,
   "metadata": {},
   "outputs": [
    {
     "data": {
      "text/plain": [
       "0.6758125791473195"
      ]
     },
     "execution_count": 529,
     "metadata": {},
     "output_type": "execute_result"
    }
   ],
   "source": [
    "accuracy_score(Y_predicted_value,Y_test)"
   ]
  },
  {
   "cell_type": "markdown",
   "metadata": {},
   "source": [
    "Here we got accuracy of naive_byes algorithium"
   ]
  },
  {
   "cell_type": "markdown",
   "metadata": {},
   "source": [
    "from here we will do random forest model implimentation"
   ]
  },
  {
   "cell_type": "markdown",
   "metadata": {},
   "source": [
    "here we are doing label encoding of column-\"gender\" and we genrate a new encoded column-\"gender_E\" which we use in svm and random forest."
   ]
  },
  {
   "cell_type": "code",
   "execution_count": 530,
   "metadata": {},
   "outputs": [],
   "source": [
    "from sklearn.preprocessing import LabelEncoder\n",
    "lb=LabelEncoder()\n",
    "a[\"gender_E\"]=lb.fit_transform(a[\"gender\"])"
   ]
  },
  {
   "cell_type": "code",
   "execution_count": 531,
   "metadata": {},
   "outputs": [],
   "source": [
    "from sklearn.ensemble import RandomForestClassifier\n",
    "X_train,X_test,Y_train,Y_test=train_test_split(df,a[\"gender_E\"],train_size=0.8)"
   ]
  },
  {
   "cell_type": "code",
   "execution_count": 532,
   "metadata": {},
   "outputs": [],
   "source": [
    "ran=RandomForestClassifier(n_estimators=150)"
   ]
  },
  {
   "cell_type": "code",
   "execution_count": 533,
   "metadata": {},
   "outputs": [
    {
     "data": {
      "text/plain": [
       "RandomForestClassifier(bootstrap=True, ccp_alpha=0.0, class_weight=None,\n",
       "                       criterion='gini', max_depth=None, max_features='auto',\n",
       "                       max_leaf_nodes=None, max_samples=None,\n",
       "                       min_impurity_decrease=0.0, min_impurity_split=None,\n",
       "                       min_samples_leaf=1, min_samples_split=2,\n",
       "                       min_weight_fraction_leaf=0.0, n_estimators=150,\n",
       "                       n_jobs=None, oob_score=False, random_state=None,\n",
       "                       verbose=0, warm_start=False)"
      ]
     },
     "execution_count": 533,
     "metadata": {},
     "output_type": "execute_result"
    }
   ],
   "source": [
    "ran.fit(X_train,Y_train)"
   ]
  },
  {
   "cell_type": "code",
   "execution_count": 534,
   "metadata": {},
   "outputs": [],
   "source": [
    "Y_predicted=ran.predict(X_test)"
   ]
  },
  {
   "cell_type": "code",
   "execution_count": 535,
   "metadata": {},
   "outputs": [
    {
     "data": {
      "text/plain": [
       "0.6323343182777543"
      ]
     },
     "execution_count": 535,
     "metadata": {},
     "output_type": "execute_result"
    }
   ],
   "source": [
    "accuracy_score(Y_predicted,Y_test)"
   ]
  },
  {
   "cell_type": "markdown",
   "metadata": {},
   "source": [
    "here we got accuracy of random_forest model"
   ]
  },
  {
   "cell_type": "markdown",
   "metadata": {},
   "source": [
    "here we use support vector machine model(svm)"
   ]
  },
  {
   "cell_type": "code",
   "execution_count": 536,
   "metadata": {},
   "outputs": [],
   "source": [
    "from sklearn.svm import SVC\n",
    "svm=SVC()"
   ]
  },
  {
   "cell_type": "code",
   "execution_count": 537,
   "metadata": {},
   "outputs": [
    {
     "data": {
      "text/plain": [
       "SVC(C=1.0, break_ties=False, cache_size=200, class_weight=None, coef0=0.0,\n",
       "    decision_function_shape='ovr', degree=3, gamma='scale', kernel='rbf',\n",
       "    max_iter=-1, probability=False, random_state=None, shrinking=True,\n",
       "    tol=0.001, verbose=False)"
      ]
     },
     "execution_count": 537,
     "metadata": {},
     "output_type": "execute_result"
    }
   ],
   "source": [
    "svm.fit(X_train,Y_train)"
   ]
  },
  {
   "cell_type": "code",
   "execution_count": 538,
   "metadata": {},
   "outputs": [],
   "source": [
    "Y_predict=svm.predict(X_test)"
   ]
  },
  {
   "cell_type": "code",
   "execution_count": 539,
   "metadata": {},
   "outputs": [
    {
     "data": {
      "text/plain": [
       "0.6433094132545378"
      ]
     },
     "execution_count": 539,
     "metadata": {},
     "output_type": "execute_result"
    }
   ],
   "source": [
    "accuracy_score(Y_predict,Y_test)"
   ]
  },
  {
   "cell_type": "markdown",
   "metadata": {},
   "source": [
    "Here we got support vector machine accuracy"
   ]
  },
  {
   "cell_type": "markdown",
   "metadata": {},
   "source": [
    "so we got that naive_byes algorithium have much better accuracy in compare than random forest and support vector machine algorithium"
   ]
  },
  {
   "cell_type": "code",
   "execution_count": null,
   "metadata": {},
   "outputs": [],
   "source": []
  },
  {
   "cell_type": "markdown",
   "metadata": {},
   "source": [
    "From here we will solve-question-1 as What are the most common emotions/words used by Males and Females?"
   ]
  },
  {
   "cell_type": "code",
   "execution_count": 540,
   "metadata": {},
   "outputs": [],
   "source": [
    "clean_text=[]\n",
    "s=[\"...\",\"!\",\"https\",\":\",\"JordanSpieth\",\"#\",\"-\",\"(\",\")\",\"`\",\",\",\"Xxxx\",\".\",\"Xxxxxxx\",\"//\",\";\",\"//t.co/S5mFPA1vgK\",\"http\"\n",
    "  \"?\",\"/\",\"//t.co/H68ou5PE9L\",\"//t.co/CIzCANPQFz\",\"ÛÏIt\",\"_Ù÷Ä_Ù÷Ä_Ù÷Ä_ÙÔÎ_ÙÈ_ÙÔ_ÙÈ\",\"Xxx\",\"//t.co/S5mFPA1vgK\",\"//t.co/MPUuQtYF1g\"\n",
    "  \"themÛ\",\"BpackEngineer\",\"å£241m\",\"byÛ_\",\"_Aphmau_\",\"JMKM_Òü\",\"//t.co/G7bSTG9ICv\",\"ÛÊ\",\"V\",\"//t.co/LmMiOwenQQ\",\"ASMSG\",\n",
    "  \"//t.co/gIHIVyHF7G\",\"//t.co/MPUuQtYF1g\",\"|\",\"Ïö\",\"TheFullBleed\",\"SciFiTalk\",\"GeekLegacy\",\"The7thMatrix\",\"x100pre\",\n",
    "  \"_ü\",\"?\",\"[\",\"]\",\"Û¢Û¢\",\"÷üå©\",\"gmail.com\",\"Insta\",\"07508547008\",\"//t.co/ABfaK2iDjb\",\"usatoday.com\",\"xxxx\",\n",
    "  \"æáæ¡æü\",\"µµµµµµ\",\"µæü\",\"è¢µÑå¼p\",\"èÁæüæüæü'À\",\"µÑæ¡µä\",\"Ä£FreeZa\",\"Ä£RIPNAZERAH_ü\",\"//t.co/DTWyrMizAu\",\n",
    "  \"ªÁ\",\"||\",\"~\",\"R_ü|\",\"//t.co/GaYp6dFfH0\",\"//\",\"\\\\\",\"//t.co/Tfn1qzIp29\",\"//t.co/iyPSgSv70z\",\"»\",\"smpromngr.co.uk\",\n",
    "  \"÷¼ü\",\"732//303\",\"@\",\"//t.co/KPG0UX7vyk\",\"Û_ Peace\",\"//t.co/3OJ5ZIVzny\",'_',\"=\\\\=\",\"KB\",\"«\",\"//t.co/ZaMI4t2PcV\",\n",
    "  \"//t.co/H43HTRNyJ7\",\"//t.co/ybODPzSUJA\",\"{\",\"}\",\"//t.co/OMOl9oQMj8\",\"ë_ëÕë£\",\"_ü_ü_ü_ü\",\"Û¢\",\"//t.co/lAGLmKjKkm\",\n",
    "  \"//t.co/Vb6s8Yj70e\",\"http\",\"//t.co/wBwNqj3IWT\",\"//t.co/BN7SdbjB97\",\"..\",\"ÊÛÊÛÊÛÊÛÊÛÊÛÊÛÊÛ\",\"ÊÛÊÛÊÛÊÛÊÛÊÛor\",\n",
    "  \"ª´÷¼ã¢\",\"//t.co/Olk38YK7zC\",\"Ï¤\",\"/èödoæ_æÕkÓ\",\"//t.co/6lzW8WUGzq\",\"16//Megan\",\"Fox//Halsey//B\",\"//t.co/bcUc9F87iK\",\n",
    "  \"//t.co/tTpCQlSRZJ\",\"//t.co/wdWFhmKgrU\",\"//t.co/6yaUxTye9n\",\"//t.co/7iviKsg0Z5\",\"//t.co/KAvPcHr69v\",\"--\",\"%\",\"20/bi\",\n",
    "  \"//t.co/zS63yVU5uK\",\"*~||\",\"//t.co/vgxbI36xPH\",\"//t.co/gTzI3PCZwS\",\"//t.co/dfqnvRvbM2\",\"=\\\\=\",\"//t.co/KNUwaqG2x1\",\"//t.co/YeGw9bkUG8\"\n",
    "  \"weakkkkk_Ù÷â_Ù÷â_Ù÷â_Ù÷â_Ù÷â\",\"allllllllllllllll\",\"//t.co/Vmb0OZU67e\",\"//t.co/hFlWR8tfOl\",\"''\",\"``\",'//t.co/cSFrMdI93i',\n",
    "  \"TheZodiacKiller\",\"//t.co/OTmkSWavhY\",\"//t.co/piTapsTzbj\",\"*****\",'//t.co/NSybBmVjKZ']\n",
    "for i in range(a.shape[0]):\n",
    "    current_text=a[\"text\"].values[i]\n",
    "    tokenized_word=word_tokenize(current_text)\n",
    "    clean_message=\"\"\n",
    "    for i in tokenized_word:\n",
    "        if i not in  s:\n",
    "            if i not in list_of_stopwords:\n",
    "                clean_message+=\" \"+i     \n",
    "#     print(\"current text  :\",clean_message)\n",
    "    clean_text.append(clean_message)\n"
   ]
  },
  {
   "cell_type": "code",
   "execution_count": 501,
   "metadata": {},
   "outputs": [],
   "source": [
    "a[\"clean_text\"]=clean_text"
   ]
  },
  {
   "cell_type": "code",
   "execution_count": 502,
   "metadata": {},
   "outputs": [
    {
     "data": {
      "text/plain": [
       "((1403, 'I'), (112, 'love'))"
      ]
     },
     "execution_count": 502,
     "metadata": {},
     "output_type": "execute_result"
    }
   ],
   "source": [
    "male=a[a[\"gender\"]==\"male\"]\n",
    "g_M={}\n",
    "for i in range(male.shape[0]):\n",
    "    h=male[\"clean_text\"].values[i].split()\n",
    "    for j in range(len(h)):\n",
    "        if h[j] in g_M:\n",
    "            g_M[h[j]]+=1\n",
    "        else:\n",
    "            g_M[h[j]]=1\n",
    "#know we try to sort it \n",
    "male_tweet=[]\n",
    "for key in g_M:\n",
    "    male_tweet.append((g_M[key],key))\n",
    "\n",
    "male_tweet.sort(reverse=True)\n",
    "\n",
    "\n",
    "male_tweet[0],male_tweet[16] "
   ]
  },
  {
   "cell_type": "markdown",
   "metadata": {},
   "source": [
    "Here i got that most commom word for male is \"I\" and most emotional word is \"Love\""
   ]
  },
  {
   "cell_type": "code",
   "execution_count": 505,
   "metadata": {},
   "outputs": [
    {
     "data": {
      "text/plain": [
       "((2271, 'I'), (182, 'love'))"
      ]
     },
     "execution_count": 505,
     "metadata": {},
     "output_type": "execute_result"
    }
   ],
   "source": [
    "Female=a[a[\"gender\"]==\"female\"]\n",
    "g_F={}\n",
    "for i in range(Female.shape[0]):\n",
    "    h=Female[\"clean_text\"].values[i].split()\n",
    "    for j in range(len(h)):\n",
    "        if h[j] in g_F:\n",
    "            g_F[h[j]]+=1\n",
    "        else:\n",
    "            g_F[h[j]]=1\n",
    "#know we try to sort it \n",
    "Female_tweet=[]\n",
    "for key in g_F:\n",
    "    Female_tweet.append((g_F[key],key))\n",
    "\n",
    "Female_tweet.sort(reverse=True)\n",
    "\n",
    "\n",
    " \n",
    "Female_tweet[0],Female_tweet[11]        "
   ]
  },
  {
   "cell_type": "markdown",
   "metadata": {},
   "source": [
    "Here we got that most common word in Female gender is \"I\" and most emotional word is \"Love\""
   ]
  },
  {
   "cell_type": "markdown",
   "metadata": {},
   "source": [
    "-------------------------------------------------------------------------------------------------------"
   ]
  },
  {
   "cell_type": "markdown",
   "metadata": {},
   "source": [
    "here we made 2-question by own as \"Which Gender has a greater number of tweets count? on an average what is the tweet_count by each gender?\""
   ]
  },
  {
   "cell_type": "code",
   "execution_count": 1,
   "metadata": {},
   "outputs": [
    {
     "name": "stdout",
     "output_type": "stream",
     "text": [
      "<class 'pandas.core.frame.DataFrame'>\n",
      "Int64Index: 19953 entries, 0 to 20049\n",
      "Data columns (total 7 columns):\n",
      " #   Column              Non-Null Count  Dtype  \n",
      "---  ------              --------------  -----  \n",
      " 0   gender              19953 non-null  object \n",
      " 1   gender:confidence   19953 non-null  float64\n",
      " 2   description         16224 non-null  object \n",
      " 3   text                19953 non-null  object \n",
      " 4   _trusted_judgments  19953 non-null  int64  \n",
      " 5   name                19953 non-null  object \n",
      " 6   tweet_count         19953 non-null  int64  \n",
      "dtypes: float64(1), int64(2), object(4)\n",
      "memory usage: 1.2+ MB\n"
     ]
    }
   ],
   "source": [
    "import pandas as pd\n",
    "b=pd.read_csv(\"Information.csv\",encoding='latin-1')\n",
    "b=b.loc[:,['gender','gender:confidence','description','text','_trusted_judgments','name','tweet_count']]\n",
    "b=b[b[\"gender\"].notnull()]\n",
    "b.info()"
   ]
  },
  {
   "cell_type": "code",
   "execution_count": 2,
   "metadata": {},
   "outputs": [
    {
     "data": {
      "text/plain": [
       "array(['male', 'female', 'brand', 'unknown'], dtype=object)"
      ]
     },
     "execution_count": 2,
     "metadata": {},
     "output_type": "execute_result"
    }
   ],
   "source": [
    "b.gender.unique()"
   ]
  },
  {
   "cell_type": "code",
   "execution_count": 3,
   "metadata": {},
   "outputs": [],
   "source": [
    "male=b[b[\"gender\"]==\"male\"]\n",
    "male_tweet_count=sum(male[\"tweet_count\"])"
   ]
  },
  {
   "cell_type": "code",
   "execution_count": 4,
   "metadata": {},
   "outputs": [],
   "source": [
    "Female=b[b[\"gender\"]==\"female\"]\n",
    "Female_tweet_counts=sum(Female[\"tweet_count\"])"
   ]
  },
  {
   "cell_type": "code",
   "execution_count": 5,
   "metadata": {},
   "outputs": [],
   "source": [
    "brand=b[b[\"gender\"]==\"brand\"]\n",
    "brand_tweet_count=sum(brand[\"tweet_count\"])"
   ]
  },
  {
   "cell_type": "code",
   "execution_count": 6,
   "metadata": {},
   "outputs": [],
   "source": [
    "unknown=b[b[\"gender\"]==\"unknown\"]\n",
    "unknown_tweet_count=sum(unknown[\"tweet_count\"])"
   ]
  },
  {
   "cell_type": "code",
   "execution_count": 7,
   "metadata": {},
   "outputs": [
    {
     "name": "stdout",
     "output_type": "stream",
     "text": [
      "Female_tweet_counts    : 182821554\n",
      "male_tweet_counts    : 196947006\n",
      "brand_tweet_count    : 357391498\n",
      "unknown_tweet_count     : 39498482\n"
     ]
    }
   ],
   "source": [
    "print(\"Female_tweet_counts    :\",Female_tweet_counts)\n",
    "print(\"male_tweet_counts    :\",male_tweet_count)\n",
    "print(\"brand_tweet_count    :\",brand_tweet_count)\n",
    "print(\"unknown_tweet_count     :\",unknown_tweet_count)"
   ]
  },
  {
   "cell_type": "code",
   "execution_count": 8,
   "metadata": {},
   "outputs": [
    {
     "data": {
      "text/plain": [
       "True"
      ]
     },
     "execution_count": 8,
     "metadata": {},
     "output_type": "execute_result"
    }
   ],
   "source": [
    "brand_tweet_count>male_tweet_count>Female_tweet_counts>unknown_tweet_count"
   ]
  },
  {
   "cell_type": "markdown",
   "metadata": {},
   "source": [
    "so we got that \"brand\" are doing more tweets_count"
   ]
  },
  {
   "cell_type": "code",
   "execution_count": 9,
   "metadata": {},
   "outputs": [],
   "source": [
    "Total_male_candidate=male.shape[0]\n",
    "Total_Female_candidate=Female.shape[0]\n",
    "Total_brand_candidate=brand.shape[0]\n",
    "Total_unknown_candidate=unknown.shape[0]"
   ]
  },
  {
   "cell_type": "code",
   "execution_count": 10,
   "metadata": {},
   "outputs": [],
   "source": [
    "average_of_tweet_count_by_each_male=int(male_tweet_count/Total_male_candidate)\n",
    "average_of_tweet_count_by_each_Female=int(Female_tweet_counts/Total_Female_candidate)\n",
    "average_of_tweet_count_by_each_brand=int(brand_tweet_count/Total_brand_candidate)\n",
    "average_of_tweet_count_by_each_unknown=int(unknown_tweet_count/Total_unknown_candidate)"
   ]
  },
  {
   "cell_type": "code",
   "execution_count": 11,
   "metadata": {},
   "outputs": [
    {
     "name": "stdout",
     "output_type": "stream",
     "text": [
      "average_of_tweet_count_by_each_male        : 31796\n",
      "average_of_tweet_count_by_each_Female       : 27286\n",
      "average_of_tweet_count_by_each_brand         : 60146\n",
      "average_of_tweet_count_by_each_unknown        : 35361\n"
     ]
    }
   ],
   "source": [
    "print(\"average_of_tweet_count_by_each_male        :\",average_of_tweet_count_by_each_male)\n",
    "print(\"average_of_tweet_count_by_each_Female       :\",average_of_tweet_count_by_each_Female)\n",
    "print(\"average_of_tweet_count_by_each_brand         :\",average_of_tweet_count_by_each_brand)\n",
    "print(\"average_of_tweet_count_by_each_unknown        :\",average_of_tweet_count_by_each_unknown)"
   ]
  },
  {
   "cell_type": "markdown",
   "metadata": {},
   "source": [
    "so we got that \"average_of_tweet_count_by_each_brand\" is more than other gender"
   ]
  },
  {
   "cell_type": "markdown",
   "metadata": {},
   "source": [
    "Summary\n",
    "\n",
    "1-so we got that naive_byes algorithium have much better accuracy in compare than random forest and support vector machine algorithium\n",
    "\n",
    "\n",
    "Q:-1 What are the most common emotions/words used by Males and Females?\n",
    "\n",
    "Answer---Here i got that most common word for male is \"I\" and most emotional word is \"Love\"\n",
    "\n",
    "         Here we got that most common word in Female gender is \"I\" and most emotional word is \"Love\"      \n",
    "        \n",
    "\n",
    "Q:-2 Which Gender has a greater number of tweets count? on an average what is the tweet_count by each gender?\n",
    "\n",
    "Answer---so we got that \"brand\" are doing more tweets_count\n",
    "            \n",
    "            average_of_tweet_count_by_each_male        : 31796\n",
    "            \n",
    "            average_of_tweet_count_by_each_Female       : 27286\n",
    "            \n",
    "            average_of_tweet_count_by_each_brand         : 60146\n",
    "            \n",
    "            average_of_tweet_count_by_each_unknown        : 35361\n",
    "         "
   ]
  },
  {
   "cell_type": "markdown",
   "metadata": {},
   "source": [
    "This project is made by me ownself\n",
    "my name is RISHABH TRIPATHI\n"
   ]
  },
  {
   "cell_type": "code",
   "execution_count": null,
   "metadata": {},
   "outputs": [],
   "source": []
  }
 ],
 "metadata": {
  "kernelspec": {
   "display_name": "Python 3",
   "language": "python",
   "name": "python3"
  },
  "language_info": {
   "codemirror_mode": {
    "name": "ipython",
    "version": 3
   },
   "file_extension": ".py",
   "mimetype": "text/x-python",
   "name": "python",
   "nbconvert_exporter": "python",
   "pygments_lexer": "ipython3",
   "version": "3.7.6"
  }
 },
 "nbformat": 4,
 "nbformat_minor": 4
}
